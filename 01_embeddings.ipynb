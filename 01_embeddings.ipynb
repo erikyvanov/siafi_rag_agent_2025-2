{
 "cells": [
  {
   "cell_type": "code",
   "execution_count": null,
   "metadata": {},
   "outputs": [],
   "source": [
    "from langchain_ollama import OllamaEmbeddings\n",
    "import numpy as np"
   ]
  },
  {
   "cell_type": "code",
   "execution_count": null,
   "metadata": {},
   "outputs": [],
   "source": [
    "def get_distance_l2(point_a, point_b):\n",
    "    return np.sqrt(np.sum((point_a - point_b)**2))"
   ]
  },
  {
   "cell_type": "code",
   "execution_count": null,
   "metadata": {},
   "outputs": [],
   "source": [
    "embeddings_generator = OllamaEmbeddings(\n",
    "    model='mxbai-embed-large:latest'\n",
    ")"
   ]
  },
  {
   "cell_type": "code",
   "execution_count": null,
   "metadata": {},
   "outputs": [],
   "source": [
    "documents = {\n",
    "    \"Gatos\": \"Los gatos son animales domésticos conocidos por su independencia, agilidad y habilidades de caza. Son compañeros ideales para quienes buscan una mascota que requiera cuidados moderados. Además, su naturaleza reservada y elegante los convierte en animales apreciados en muchos hogares.\",\n",
    "    \"Perros\": \"Los perros son animales leales y sociables que han acompañado a los humanos durante siglos. Son conocidos por su capacidad de aprendizaje y afecto incondicional. Además de ser mascotas fieles, pueden desempeñar funciones importantes como perros de servicio, de terapia o de trabajo en diversas áreas, como seguridad y rescate.\",\n",
    "    \"Ollama\": \"Ollama es una herramienta que permite ejecutar modelos de lenguaje de manera local, como Llama 3. Agrupa en un solo paquete los pesos del modelo, la configuración y los datos necesarios, optimizando así el uso de los recursos del sistema, incluida la GPU. Esto facilita el desarrollo de aplicaciones de inteligencia artificial en entornos controlados.\",\n",
    "    \"Python\": \"Python es un lenguaje de programación versátil y ampliamente utilizado en desarrollo web, ciencia de datos, inteligencia artificial y automatización. Su sintaxis sencilla y la vasta cantidad de bibliotecas disponibles, como TensorFlow y Pandas, lo convierten en una opción ideal tanto para principiantes como para desarrolladores experimentados.\",\n",
    "    \"React\": \"React es una biblioteca de JavaScript desarrollada por Meta (antes Facebook) para la construcción de interfaces de usuario interactivas y eficientes. Su enfoque basado en componentes reutilizables permite a los desarrolladores crear aplicaciones web escalables y fáciles de mantener\"\n",
    "}"
   ]
  },
  {
   "cell_type": "code",
   "execution_count": null,
   "metadata": {},
   "outputs": [],
   "source": [
    "len(embeddings_generator.embed_documents([documents['Gatos']])[0])"
   ]
  },
  {
   "cell_type": "code",
   "execution_count": null,
   "metadata": {},
   "outputs": [],
   "source": [
    "embeddings = embeddings_generator.embed_documents(list(documents.values()))"
   ]
  },
  {
   "cell_type": "code",
   "execution_count": null,
   "metadata": {},
   "outputs": [],
   "source": [
    "texto_gatos = np.array(embeddings[0])\n",
    "texto_perros = np.array(embeddings[1])\n",
    "\n",
    "get_distance_l2(texto_gatos, texto_perros)"
   ]
  },
  {
   "cell_type": "code",
   "execution_count": null,
   "metadata": {},
   "outputs": [],
   "source": [
    "texto_python = np.array(embeddings[3])\n",
    "\n",
    "get_distance_l2(texto_gatos, texto_python)"
   ]
  },
  {
   "cell_type": "code",
   "execution_count": null,
   "metadata": {},
   "outputs": [],
   "source": [
    "import matplotlib.pyplot as plt\n",
    "from sklearn.decomposition import PCA\n"
   ]
  },
  {
   "cell_type": "code",
   "execution_count": null,
   "metadata": {},
   "outputs": [],
   "source": [
    "pca = PCA(n_components=2)\n",
    "pca_embeddings = pca.fit_transform(embeddings)"
   ]
  },
  {
   "cell_type": "code",
   "execution_count": null,
   "metadata": {},
   "outputs": [],
   "source": [
    "plt.figure(figsize=(10, 7))\n",
    "plt.scatter(pca_embeddings[:, 0], pca_embeddings[:,1])\n",
    "\n",
    "for i, label in enumerate(documents.keys()):\n",
    "    plt.text(pca_embeddings[i, 0], pca_embeddings[i, 1], label, fontsize=9)\n",
    "\n",
    "plt.show()"
   ]
  },
  {
   "cell_type": "code",
   "execution_count": null,
   "metadata": {},
   "outputs": [],
   "source": [
    "preguntas = {\n",
    "    \"mascotas\": \"Hablame sobre mascotas\",\n",
    "    \"programacion\": \"Hablame de herramientas de programacion\"\n",
    "}"
   ]
  },
  {
   "cell_type": "code",
   "execution_count": null,
   "metadata": {},
   "outputs": [],
   "source": [
    "preguntas_embeddings = embeddings_generator.embed_documents(list(preguntas.values()))"
   ]
  },
  {
   "cell_type": "code",
   "execution_count": null,
   "metadata": {},
   "outputs": [],
   "source": [
    "pca_embeddings = np.concatenate([pca_embeddings, pca.fit_transform(preguntas_embeddings)], axis=0)\n",
    "\n",
    "plt.figure(figsize=(10, 7))\n",
    "plt.scatter(pca_embeddings[:, 0], pca_embeddings[:,1])\n",
    "\n",
    "for i, label in enumerate(list(documents.keys()) + list(preguntas.keys())):\n",
    "    plt.text(pca_embeddings[i, 0], pca_embeddings[i, 1], label, fontsize=9)\n",
    "\n",
    "plt.show()"
   ]
  },
  {
   "cell_type": "code",
   "execution_count": null,
   "metadata": {},
   "outputs": [],
   "source": []
  }
 ],
 "metadata": {
  "kernelspec": {
   "display_name": ".siafi_rag_agent_env",
   "language": "python",
   "name": "python3"
  },
  "language_info": {
   "codemirror_mode": {
    "name": "ipython",
    "version": 3
   },
   "file_extension": ".py",
   "mimetype": "text/x-python",
   "name": "python",
   "nbconvert_exporter": "python",
   "pygments_lexer": "ipython3",
   "version": "3.11.2"
  }
 },
 "nbformat": 4,
 "nbformat_minor": 2
}
