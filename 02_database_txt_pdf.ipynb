{
 "cells": [
  {
   "cell_type": "code",
   "execution_count": null,
   "metadata": {},
   "outputs": [],
   "source": [
    "from langchain_ollama import OllamaEmbeddings\n",
    "from langchain_text_splitters import RecursiveCharacterTextSplitter\n",
    "\n",
    "from langchain_core.documents import Document\n",
    "from langchain_chroma import Chroma\n",
    "\n",
    "import uuid\n",
    "from langchain_community.document_loaders import PyPDFLoader\n"
   ]
  },
  {
   "cell_type": "code",
   "execution_count": null,
   "metadata": {},
   "outputs": [],
   "source": [
    "text_splitter = RecursiveCharacterTextSplitter(\n",
    "    chunk_size=510,\n",
    "    chunk_overlap=50,\n",
    "    length_function=len,\n",
    "    separators=['\\n', '.', '\\n\\n']\n",
    ")"
   ]
  },
  {
   "cell_type": "code",
   "execution_count": null,
   "metadata": {},
   "outputs": [],
   "source": [
    "embeddings_generator = OllamaEmbeddings(\n",
    "    model='mxbai-embed-large:latest'\n",
    ")"
   ]
  },
  {
   "cell_type": "code",
   "execution_count": null,
   "metadata": {},
   "outputs": [],
   "source": [
    "chroma_db_path = './database/chromadb'\n",
    "\n",
    "vector_store = Chroma(\n",
    "    persist_directory=chroma_db_path,\n",
    "    embedding_function=embeddings_generator,\n",
    "    collection_name='pokemon'\n",
    ")"
   ]
  },
  {
   "cell_type": "markdown",
   "metadata": {},
   "source": [
    "## Documentos TXT"
   ]
  },
  {
   "cell_type": "code",
   "execution_count": null,
   "metadata": {},
   "outputs": [],
   "source": [
    "txt_path = './database/docs/megaevolucion.txt'\n",
    "txt_text = ''\n",
    "\n",
    "with open(txt_path, 'r') as file:\n",
    "    txt_text = file.read()\n",
    "\n",
    "print(len(txt_text))"
   ]
  },
  {
   "cell_type": "code",
   "execution_count": null,
   "metadata": {},
   "outputs": [],
   "source": [
    "text_chunks = text_splitter.split_text(txt_text)\n",
    "print(len(text_chunks))"
   ]
  },
  {
   "cell_type": "code",
   "execution_count": null,
   "metadata": {},
   "outputs": [],
   "source": [
    "for chunk in text_chunks:\n",
    "    document = Document(\n",
    "        id=str(uuid.uuid4()),\n",
    "        page_content=chunk,\n",
    "        metadata={\n",
    "            'name': 'megaevolucion',\n",
    "            'source': 'https://www.wikidex.net/wiki/Megaevoluci%C3%B3n',\n",
    "            'generation': 6,\n",
    "            'image_src': 'https://images.wikidexcdn.net/mwuploads/wikidex/thumb/2/20/latest/20130811194207/Mega_Mewtwo_vs_Mega_Lucario.png/300px-Mega_Mewtwo_vs_Mega_Lucario.png'\n",
    "        }\n",
    "    )\n",
    "\n",
    "    vector_store.add_documents([document])"
   ]
  },
  {
   "cell_type": "code",
   "execution_count": null,
   "metadata": {},
   "outputs": [],
   "source": [
    "vector_store.similarity_search('Como se activa la megaevolucion?', 5)"
   ]
  },
  {
   "cell_type": "markdown",
   "metadata": {},
   "source": [
    "## Documento PDF"
   ]
  },
  {
   "cell_type": "code",
   "execution_count": null,
   "metadata": {},
   "outputs": [],
   "source": [
    "pdf_document = PyPDFLoader('./database/docs/curiosidades.pdf')\n",
    "pdf_pages = pdf_document.load()"
   ]
  },
  {
   "cell_type": "code",
   "execution_count": null,
   "metadata": {},
   "outputs": [],
   "source": [
    "pdf_chunks = text_splitter.split_documents(pdf_pages)\n",
    "print(len(pdf_chunks))"
   ]
  },
  {
   "cell_type": "code",
   "execution_count": null,
   "metadata": {},
   "outputs": [],
   "source": [
    "for chunk in pdf_chunks:\n",
    "    chunk.id = str(uuid.uuid4())\n",
    "    chunk.metadata = {\n",
    "        \"name\": \"curiosidades\"\n",
    "    }"
   ]
  },
  {
   "cell_type": "code",
   "execution_count": null,
   "metadata": {},
   "outputs": [],
   "source": [
    "vector_store.add_documents(pdf_chunks)"
   ]
  },
  {
   "cell_type": "code",
   "execution_count": null,
   "metadata": {},
   "outputs": [],
   "source": []
  }
 ],
 "metadata": {
  "kernelspec": {
   "display_name": ".siafi_rag_agent_env",
   "language": "python",
   "name": "python3"
  },
  "language_info": {
   "codemirror_mode": {
    "name": "ipython",
    "version": 3
   },
   "file_extension": ".py",
   "mimetype": "text/x-python",
   "name": "python",
   "nbconvert_exporter": "python",
   "pygments_lexer": "ipython3",
   "version": "3.11.2"
  }
 },
 "nbformat": 4,
 "nbformat_minor": 2
}
