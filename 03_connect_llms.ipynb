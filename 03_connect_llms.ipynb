{
 "cells": [
  {
   "cell_type": "code",
   "execution_count": null,
   "metadata": {},
   "outputs": [],
   "source": [
    "from dotenv import load_dotenv\n",
    "import os\n",
    "\n",
    "load_dotenv('./.env')"
   ]
  },
  {
   "cell_type": "markdown",
   "metadata": {},
   "source": [
    "## Gemini"
   ]
  },
  {
   "cell_type": "code",
   "execution_count": null,
   "metadata": {},
   "outputs": [],
   "source": [
    "import google.generativeai as genia\n",
    "\n",
    "for model in genia.list_models():\n",
    "    print(model.name)"
   ]
  },
  {
   "cell_type": "code",
   "execution_count": null,
   "metadata": {},
   "outputs": [],
   "source": [
    "from langchain_google_genai import ChatGoogleGenerativeAI\n",
    "\n",
    "gemini_llm = ChatGoogleGenerativeAI(\n",
    "    model='models/gemini-2.0-flash',\n",
    ")\n",
    "\n",
    "for token in gemini_llm.stream(\"Hola como estas?\"):\n",
    "    print(token.content, end='')"
   ]
  },
  {
   "cell_type": "markdown",
   "metadata": {},
   "source": [
    "## Hugging Face"
   ]
  },
  {
   "cell_type": "code",
   "execution_count": null,
   "metadata": {},
   "outputs": [],
   "source": [
    "from langchain_huggingface import HuggingFaceEndpoint, ChatHuggingFace\n",
    "\n",
    "endpoint_hugging_face = HuggingFaceEndpoint(\n",
    "    repo_id='microsoft/Phi-3-mini-4k-instruct',\n",
    "    task='text-generation',\n",
    "    max_new_tokens=512,\n",
    ")\n",
    "\n",
    "hugging_face_llm = ChatHuggingFace(\n",
    "    llm=endpoint_hugging_face,\n",
    ")\n",
    "\n",
    "\n",
    "for token in hugging_face_llm.stream(\"Hola como estas?\"):\n",
    "    print(token.content, end='')"
   ]
  },
  {
   "cell_type": "markdown",
   "metadata": {},
   "source": [
    "## DeepSeek"
   ]
  },
  {
   "cell_type": "code",
   "execution_count": null,
   "metadata": {},
   "outputs": [],
   "source": [
    "from langchain_openai import ChatOpenAI\n",
    "\n",
    "deep_seek_llm = ChatOpenAI(\n",
    "    model='deepseek-chat',\n",
    "    base_url='https://api.deepseek.com',\n",
    "    api_key=os.getenv('DEEP_SEEK_API_KEY')\n",
    ")\n",
    "\n",
    "for token in deep_seek_llm.stream(\"Explicame como programar en python desde 0\"):\n",
    "    print(token.content, end='')"
   ]
  },
  {
   "cell_type": "markdown",
   "metadata": {},
   "source": [
    "## OpenAI"
   ]
  },
  {
   "cell_type": "code",
   "execution_count": null,
   "metadata": {},
   "outputs": [],
   "source": [
    "from langchain_openai import ChatOpenAI\n",
    "\n",
    "openai_llm = ChatOpenAI(\n",
    "    model='gpt-4-turbo',\n",
    ")\n",
    "\n",
    "for token in openai_llm.stream(\"Explicame como programar en python desde 0\"):\n",
    "    print(token.content, end='')"
   ]
  },
  {
   "cell_type": "markdown",
   "metadata": {},
   "source": [
    "## Ollama"
   ]
  },
  {
   "cell_type": "code",
   "execution_count": null,
   "metadata": {},
   "outputs": [],
   "source": [
    "from langchain_ollama import ChatOllama\n",
    "\n",
    "ollama_llm = ChatOllama(\n",
    "    model='llama3.2:1b',\n",
    ")\n",
    "\n",
    "for token in ollama_llm.stream(\"Explicame como programar en python desde 0\"):\n",
    "    print(token.content, end='')"
   ]
  },
  {
   "cell_type": "code",
   "execution_count": null,
   "metadata": {},
   "outputs": [],
   "source": []
  }
 ],
 "metadata": {
  "kernelspec": {
   "display_name": ".siafi_rag_agent_env",
   "language": "python",
   "name": "python3"
  },
  "language_info": {
   "codemirror_mode": {
    "name": "ipython",
    "version": 3
   },
   "file_extension": ".py",
   "mimetype": "text/x-python",
   "name": "python",
   "nbconvert_exporter": "python",
   "pygments_lexer": "ipython3",
   "version": "3.11.2"
  }
 },
 "nbformat": 4,
 "nbformat_minor": 2
}
