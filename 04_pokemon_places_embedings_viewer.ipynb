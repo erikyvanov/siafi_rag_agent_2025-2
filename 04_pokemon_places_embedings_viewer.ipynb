{
 "cells": [
  {
   "cell_type": "code",
   "execution_count": null,
   "metadata": {},
   "outputs": [],
   "source": [
    "import chromadb\n",
    "from sklearn.decomposition import PCA\n",
    "import plotly.express as px"
   ]
  },
  {
   "cell_type": "code",
   "execution_count": null,
   "metadata": {},
   "outputs": [],
   "source": [
    "client = chromadb.PersistentClient(path=\"./database/chromadb\")\n",
    "collection = client.get_collection(\"pokemon\")"
   ]
  },
  {
   "cell_type": "code",
   "execution_count": null,
   "metadata": {},
   "outputs": [],
   "source": [
    "results = collection.get(\n",
    "    include=['embeddings', 'metadatas'],\n",
    "    )\n",
    "\n",
    "embeddings = results['embeddings']\n",
    "metadata = results['metadatas']\n",
    "\n",
    "embedings_plot = []\n",
    "pokemon_names_plot = []\n",
    "\n",
    "for embbeding, meta in zip(embeddings, metadata):\n",
    "    if 'place_name' in meta:\n",
    "        embedings_plot.append(embbeding)\n",
    "        pokemon_names_plot.append(meta['place_name'])\n",
    "\n",
    "len(embedings_plot)"
   ]
  },
  {
   "cell_type": "code",
   "execution_count": null,
   "metadata": {},
   "outputs": [],
   "source": [
    "embedings_plot = embedings_plot[500:1000]\n",
    "pokemon_names_plot = pokemon_names_plot[500:1000]"
   ]
  },
  {
   "cell_type": "code",
   "execution_count": null,
   "metadata": {},
   "outputs": [],
   "source": [
    "pca = PCA(n_components=3)\n",
    "vis_dims = pca.fit_transform(embedings_plot)\n",
    "fig = px.scatter_3d(\n",
    "    x=vis_dims[:, 0],\n",
    "    y=vis_dims[:, 1],\n",
    "    z=vis_dims[:, 2],\n",
    "    text=pokemon_names_plot,\n",
    "    labels={'x': 'PCA Component 1', 'y': 'PCA Component 2', 'z': 'PCA Component 3'},\n",
    "    title='3D PCA of Embeddings'\n",
    ")\n",
    "\n",
    "fig.show()"
   ]
  },
  {
   "cell_type": "code",
   "execution_count": null,
   "metadata": {},
   "outputs": [],
   "source": []
  }
 ],
 "metadata": {
  "kernelspec": {
   "display_name": ".siafi_rag_agent_env",
   "language": "python",
   "name": "python3"
  },
  "language_info": {
   "codemirror_mode": {
    "name": "ipython",
    "version": 3
   },
   "file_extension": ".py",
   "mimetype": "text/x-python",
   "name": "python",
   "nbconvert_exporter": "python",
   "pygments_lexer": "ipython3",
   "version": "3.11.2"
  }
 },
 "nbformat": 4,
 "nbformat_minor": 2
}
